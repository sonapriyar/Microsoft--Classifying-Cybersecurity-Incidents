{
 "cells": [
  {
   "cell_type": "code",
   "execution_count": 3,
   "metadata": {},
   "outputs": [
    {
     "name": "stdout",
     "output_type": "stream",
     "text": [
      "Index(['Id', 'OrgId', 'IncidentId', 'AlertId', 'Timestamp', 'DetectorId',\n",
      "       'AlertTitle', 'IncidentGrade', 'EntityType', 'EvidenceRole', 'DeviceId',\n",
      "       'Sha256', 'IpAddress', 'Url', 'AccountSid', 'AccountUpn',\n",
      "       'AccountObjectId', 'AccountName', 'DeviceName', 'NetworkMessageId',\n",
      "       'RegistryKey', 'RegistryValueName', 'RegistryValueData',\n",
      "       'ApplicationId', 'ApplicationName', 'OAuthApplicationId', 'FileName',\n",
      "       'FolderPath', 'ResourceIdName', 'OSFamily', 'OSVersion', 'CountryCode',\n",
      "       'State', 'City', 'Hour', 'DayOfWeek', 'Month',\n",
      "       'Category_CommandAndControl', 'Category_CredentialAccess',\n",
      "       'Category_CredentialStealing', 'Category_DefenseEvasion',\n",
      "       'Category_Discovery', 'Category_Execution', 'Category_Exfiltration',\n",
      "       'Category_Exploit', 'Category_Impact', 'Category_InitialAccess',\n",
      "       'Category_LateralMovement', 'Category_Malware', 'Category_Persistence',\n",
      "       'Category_PrivilegeEscalation', 'Category_Ransomware',\n",
      "       'Category_SuspiciousActivity', 'Category_UnwantedSoftware',\n",
      "       'Category_WebExploit', 'Usage_Public'],\n",
      "      dtype='object')\n",
      "Training set size: (3318393, 55), Validation set size: (829599, 55)\n"
     ]
    },
    {
     "ename": "",
     "evalue": "",
     "output_type": "error",
     "traceback": [
      "\u001b[1;31mThe Kernel crashed while executing code in the current cell or a previous cell. \n",
      "\u001b[1;31mPlease review the code in the cell(s) to identify a possible cause of the failure. \n",
      "\u001b[1;31mClick <a href='https://aka.ms/vscodeJupyterKernelCrash'>here</a> for more info. \n",
      "\u001b[1;31mView Jupyter <a href='command:jupyter.viewOutput'>log</a> for further details."
     ]
    }
   ],
   "source": [
    "import pandas as pd\n",
    "from sklearn.model_selection import train_test_split\n",
    "\n",
    "# Step 1: Load the preprocessed CSV file\n",
    "preprocessed_file_path = r\"C:\\Users\\sonur\\OneDrive\\Desktop\\Projects\\Microsoft Cyber\\Documents\\GUIDE_Test_preprocessed.csv\"\n",
    "df = pd.read_csv(preprocessed_file_path)\n",
    "\n",
    "# Step 2: Print column names to identify the target variable\n",
    "print(df.columns)\n",
    "\n",
    "# Step 3: Replace with the actual target column name\n",
    "target_column = 'IncidentGrade'  # Example, replace with your actual target column\n",
    "\n",
    "# Step 4: Define features (X) and target (y)\n",
    "X = df.drop(columns=[target_column])  # Features (all columns except the target)\n",
    "y = df[target_column]  # Target variable\n",
    "\n",
    "# Step 5: Perform Train-Validation Split (80-20) with stratification\n",
    "X_train, X_val, y_train, y_val = train_test_split(X, y, test_size=0.2, random_state=42, stratify=y)\n",
    "\n",
    "# Step 6: Confirm the shapes of the training and validation sets\n",
    "print(f\"Training set size: {X_train.shape}, Validation set size: {X_val.shape}\")\n",
    "\n",
    "# Optional: Save the split data for future use\n",
    "X_train.to_csv('X_train.csv', index=False)\n",
    "y_train.to_csv('y_train.csv', index=False)\n",
    "X_val.to_csv('X_val.csv', index=False)\n",
    "y_val.to_csv('y_val.csv', index=False)\n"
   ]
  }
 ],
 "metadata": {
  "kernelspec": {
   "display_name": "Python 3",
   "language": "python",
   "name": "python3"
  },
  "language_info": {
   "codemirror_mode": {
    "name": "ipython",
    "version": 3
   },
   "file_extension": ".py",
   "mimetype": "text/x-python",
   "name": "python",
   "nbconvert_exporter": "python",
   "pygments_lexer": "ipython3",
   "version": "3.12.3"
  }
 },
 "nbformat": 4,
 "nbformat_minor": 2
}
